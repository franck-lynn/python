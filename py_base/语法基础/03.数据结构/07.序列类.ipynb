{
 "cells": [
  {
   "cell_type": "markdown",
   "source": [
    "# 序列类"
   ],
   "metadata": {}
  },
  {
   "cell_type": "code",
   "execution_count": 2,
   "source": [
    "# 容器序列和扁平序列\r\n",
    "my_list   = []\r\n",
    "my_list.append(1)\r\n",
    "my_list.append('a')\r\n",
    "my_list"
   ],
   "outputs": [
    {
     "output_type": "execute_result",
     "data": {
      "text/plain": [
       "[1, 'a']"
      ]
     },
     "metadata": {},
     "execution_count": 2
    }
   ],
   "metadata": {}
  },
  {
   "cell_type": "code",
   "execution_count": 12,
   "source": [
    "# 可变序列和不可变序列 sequence  不可变, 包含了哪些魔法函数? 哪些函数要实现未实现的方法\r\n",
    "from collections import abc\r\n",
    "a = [1, 2]\r\n",
    "c = a + [3, 4] # 2个 list 做连接\r\n",
    "print(c)\r\n",
    "\r\n",
    "# 就地加, 魔法函数实现的\r\n",
    "a += (3, 4)\r\n",
    "a.extend(range(3)) # extend 没有返回值\r\n",
    "# a.append([5, 6])\r\n",
    "print(a)"
   ],
   "outputs": [
    {
     "output_type": "stream",
     "name": "stdout",
     "text": [
      "[1, 2, 3, 4]\n",
      "[1, 2, 3, 4, 0, 1, 2]\n"
     ]
    }
   ],
   "metadata": {}
  }
 ],
 "metadata": {
  "orig_nbformat": 4,
  "language_info": {
   "name": "python",
   "version": "3.8.10",
   "mimetype": "text/x-python",
   "codemirror_mode": {
    "name": "ipython",
    "version": 3
   },
   "pygments_lexer": "ipython3",
   "nbconvert_exporter": "python",
   "file_extension": ".py"
  },
  "kernelspec": {
   "name": "python3",
   "display_name": "Python 3.8.10 64-bit (system)"
  },
  "interpreter": {
   "hash": "23606025af0d759ac168e3e183f2242a20e8845206fbac4fad5a0283f7618b68"
  }
 },
 "nbformat": 4,
 "nbformat_minor": 2
}