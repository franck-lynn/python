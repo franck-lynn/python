{
 "cells": [
  {
   "cell_type": "code",
   "execution_count": 5,
   "source": [
    "# 类变量和实例变量\r\n",
    "class A:\r\n",
    "    aa = 1\r\n",
    "\r\n",
    "    def __init__(self, x, y):\r\n",
    "        self.x = x\r\n",
    "        self.y = y\r\n",
    "\r\n",
    "\r\n",
    "a = A(2, 3)\r\n",
    "A.aa = 11\r\n",
    "a.aa = 100\r\n",
    "print (a.x, a.y, a.aa)\r\n",
    "print (A.aa) # 类属性保持不变"
   ],
   "outputs": [
    {
     "output_type": "stream",
     "name": "stdout",
     "text": [
      "2 3 100\n",
      "11\n"
     ]
    }
   ],
   "metadata": {}
  },
  {
   "cell_type": "code",
   "execution_count": 7,
   "source": [
    "class B:\r\n",
    "    name = \"A\"\r\n",
    "    def __init__(self):\r\n",
    "        self.name = \"obj\"\r\n",
    "        \r\n",
    "b = B()\r\n",
    "# 查找时先找实例上的属性, 然后再找类上的属性\r\n",
    "# 如何找不到, 再向上找类的属性\r\n",
    "print(b.name)"
   ],
   "outputs": [
    {
     "output_type": "stream",
     "name": "stdout",
     "text": [
      "obj\n"
     ]
    }
   ],
   "metadata": {}
  },
  {
   "cell_type": "code",
   "execution_count": null,
   "source": [
    "# MRO 算法"
   ],
   "outputs": [],
   "metadata": {}
  }
 ],
 "metadata": {
  "orig_nbformat": 4,
  "language_info": {
   "name": "python",
   "version": "3.8.10",
   "mimetype": "text/x-python",
   "codemirror_mode": {
    "name": "ipython",
    "version": 3
   },
   "pygments_lexer": "ipython3",
   "nbconvert_exporter": "python",
   "file_extension": ".py"
  },
  "kernelspec": {
   "name": "python3",
   "display_name": "Python 3.8.10 64-bit (system)"
  },
  "interpreter": {
   "hash": "23606025af0d759ac168e3e183f2242a20e8845206fbac4fad5a0283f7618b68"
  }
 },
 "nbformat": 4,
 "nbformat_minor": 2
}