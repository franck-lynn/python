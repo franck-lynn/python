{
 "cells": [
  {
   "cell_type": "code",
   "execution_count": 2,
   "source": [
    "# MRO 算法\r\n",
    "# 深度优先搜索 DFS\r\n",
    "# 菱形搜索时有问题了. 改成广度优先 BFS\r\n",
    "# 树杈形状搜索时也有问题. C3 算法, 比较复杂, py2.3 后改成了 C3 算法\r\n",
    "\r\n",
    "# 菱形查找\r\n",
    "\"\"\" \r\n",
    "  D\r\n",
    " / \\\r\n",
    "B  C\r\n",
    "\\ /\r\n",
    " A \r\n",
    " 先查A, 再 B, C, D\r\n",
    "\"\"\"\r\n",
    "class D:\r\n",
    "    pass\r\n",
    "class C(D):\r\n",
    "    pass\r\n",
    "class B(D):\r\n",
    "    pass\r\n",
    "class A(B, C):\r\n",
    "    pass\r\n",
    "\r\n",
    "print(A.__mro__)"
   ],
   "outputs": [
    {
     "output_type": "stream",
     "name": "stdout",
     "text": [
      "(<class '__main__.A'>, <class '__main__.B'>, <class '__main__.C'>, <class '__main__.D'>, <class 'object'>)\n"
     ]
    }
   ],
   "metadata": {}
  },
  {
   "cell_type": "code",
   "execution_count": 4,
   "source": [
    "# 树杈查找\r\n",
    "\"\"\" \r\n",
    "D     E\r\n",
    "|     | \r\n",
    "B     C\r\n",
    "  \\  / \r\n",
    "   A\r\n",
    "搜索顺序: A -> B -> D -> C -> E\r\n",
    "\"\"\"\r\n",
    "class D: \r\n",
    "    pass\r\n",
    "class E: \r\n",
    "    pass\r\n",
    "class B(D): \r\n",
    "    pass\r\n",
    "class C(E): \r\n",
    "    pass\r\n",
    "class A(B, C): \r\n",
    "    pass\r\n",
    "print(A.__mro__)"
   ],
   "outputs": [
    {
     "output_type": "stream",
     "name": "stdout",
     "text": [
      "(<class '__main__.A'>, <class '__main__.B'>, <class '__main__.D'>, <class '__main__.C'>, <class '__main__.E'>, <class 'object'>)\n"
     ]
    }
   ],
   "metadata": {}
  },
  {
   "cell_type": "code",
   "execution_count": null,
   "source": [],
   "outputs": [],
   "metadata": {}
  }
 ],
 "metadata": {
  "orig_nbformat": 4,
  "language_info": {
   "name": "python",
   "version": "3.8.10",
   "mimetype": "text/x-python",
   "codemirror_mode": {
    "name": "ipython",
    "version": 3
   },
   "pygments_lexer": "ipython3",
   "nbconvert_exporter": "python",
   "file_extension": ".py"
  },
  "kernelspec": {
   "name": "python3",
   "display_name": "Python 3.8.10 64-bit (system)"
  },
  "interpreter": {
   "hash": "23606025af0d759ac168e3e183f2242a20e8845206fbac4fad5a0283f7618b68"
  }
 },
 "nbformat": 4,
 "nbformat_minor": 2
}