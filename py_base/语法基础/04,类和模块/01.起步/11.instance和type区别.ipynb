{
 "cells": [
  {
   "cell_type": "code",
   "execution_count": 7,
   "source": [
    "# instance 和 type 区别\r\n",
    "class A:\r\n",
    "    pass\r\n",
    "class B(A):\r\n",
    "    pass\r\n",
    "\r\n",
    "b = B()\r\n",
    "isinstance(b, B) # True\r\n",
    "isinstance(b, A) # True\r\n",
    "type(b) is B # is 判断是不是一个对象  True\r\n",
    "type(b) == B  # == 值是否相等 True\r\n",
    "type(b) is A # false"
   ],
   "outputs": [
    {
     "output_type": "execute_result",
     "data": {
      "text/plain": [
       "False"
      ]
     },
     "metadata": {},
     "execution_count": 7
    }
   ],
   "metadata": {}
  }
 ],
 "metadata": {
  "orig_nbformat": 4,
  "language_info": {
   "name": "python",
   "version": "3.8.10",
   "mimetype": "text/x-python",
   "codemirror_mode": {
    "name": "ipython",
    "version": 3
   },
   "pygments_lexer": "ipython3",
   "nbconvert_exporter": "python",
   "file_extension": ".py"
  },
  "kernelspec": {
   "name": "python3",
   "display_name": "Python 3.8.10 64-bit (system)"
  },
  "interpreter": {
   "hash": "23606025af0d759ac168e3e183f2242a20e8845206fbac4fad5a0283f7618b68"
  }
 },
 "nbformat": 4,
 "nbformat_minor": 2
}