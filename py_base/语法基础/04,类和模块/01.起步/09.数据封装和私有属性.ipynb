{
 "cells": [
  {
   "cell_type": "markdown",
   "metadata": {},
   "source": [
    "# clz 类方法"
   ]
  },
  {
   "cell_type": "code",
   "execution_count": 24,
   "metadata": {},
   "outputs": [],
   "source": [
    "class Date:\n",
    "    # 构造函数\n",
    "    def __init__(self, year, month, day):\n",
    "        self.year = year\n",
    "        self.month = month\n",
    "        self.day = day\n",
    "\n",
    "    # 实例方法\n",
    "    def tomorrow(self):\n",
    "        self.day += 1\n",
    "\n",
    "    def __str__(self):\n",
    "        return \"{year}/{month}/{day}\".format(year=self.year, month=self.month, day=self.day)\n",
    "\n",
    "    # 定义一个静态方法\n",
    "    @staticmethod\n",
    "    def parse_from_string(date_str):\n",
    "        year, month, day = tuple(date_str.split(\"-\"))\n",
    "        return Date(int(year), int(month), int(day))  # 硬编码 Date\n",
    "\n",
    "    @staticmethod\n",
    "    def valid_str(date_str):\n",
    "        year, month, day = tuple(date_str.split(\"-\"))\n",
    "        if(int(year) > 0 and int(month) <= 12 and int(day) > 0 and int(day) <= 31):\n",
    "            return True\n",
    "        else:\n",
    "            return False\n",
    "\n",
    "    @classmethod  # ! 类方法\n",
    "    def from_string(cls, date_str):\n",
    "        year, month, day = tuple(date_str.split(\"-\"))\n",
    "        return cls(int(year), int(month), int(day))  # 取消了编码 Date"
   ]
  },
  {
   "cell_type": "code",
   "execution_count": 26,
   "metadata": {},
   "outputs": [
    {
     "name": "stdout",
     "output_type": "stream",
     "text": [
      "31\n"
     ]
    }
   ],
   "source": [
    " \n",
    "# private pretect\n",
    "class User:\n",
    "    def __init__(self, birthday):\n",
    "        # 把 birthday 隐藏掉\n",
    "        self.__birthday = birthday # __双下划线就不能访问了\n",
    "        \n",
    "    def get_age(self):\n",
    "        # 返回年龄\n",
    "        return 2021 - self.__birthday.year\n",
    "    \n",
    "if __name__ == \"__main__\":\n",
    "    user = User(Date(1990, 2, 1))    \n",
    "    # user.__birthday  # 不能访问了\n",
    "    # print(user._User__birthday)  # 能访问, 但ide会报错\n",
    "    print(user.get_age())\n"
   ]
  }
 ],
 "metadata": {
  "interpreter": {
   "hash": "23606025af0d759ac168e3e183f2242a20e8845206fbac4fad5a0283f7618b68"
  },
  "kernelspec": {
   "display_name": "Python 3.8.10 64-bit (system)",
   "name": "python3"
  },
  "language_info": {
   "codemirror_mode": {
    "name": "ipython",
    "version": 3
   },
   "file_extension": ".py",
   "mimetype": "text/x-python",
   "name": "python",
   "nbconvert_exporter": "python",
   "pygments_lexer": "ipython3",
   "version": "3.8.10"
  },
  "orig_nbformat": 4
 },
 "nbformat": 4,
 "nbformat_minor": 2
}
