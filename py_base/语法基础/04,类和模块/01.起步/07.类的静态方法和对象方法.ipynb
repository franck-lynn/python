{
 "cells": [
  {
   "cell_type": "code",
   "execution_count": 14,
   "source": [
    "class Date:\r\n",
    "    # 构造函数\r\n",
    "    def __init__(self, year, month, day):\r\n",
    "        self.year = year\r\n",
    "        self.month = month\r\n",
    "        self.day = day\r\n",
    "\r\n",
    "    # 实例方法\r\n",
    "    def tomorrow(self):\r\n",
    "        self.day += 1\r\n",
    "\r\n",
    "    def __str__(self):\r\n",
    "        return \"{year}/{month}/{day}\".format(year=self.year, month=self.month, day=self.day)\r\n",
    "\r\n",
    "    # 定义一个静态方法\r\n",
    "    @staticmethod\r\n",
    "    def parse_from_string(date_str):\r\n",
    "        year, month, day = tuple(date_str.split(\"-\"))\r\n",
    "        return Date(int(year), int(month), int(day))  # 硬编码 Date\r\n",
    "\r\n",
    "    @staticmethod\r\n",
    "    def valid_str(date_str):\r\n",
    "        year, month, day = tuple(date_str.split(\"-\"))\r\n",
    "        if(int(year) > 0 and int(month) <= 12 and int(day) > 0 and int(day) <= 31):\r\n",
    "            return True\r\n",
    "        else:\r\n",
    "            return False\r\n",
    "\r\n",
    "    @classmethod  # ! 类方法\r\n",
    "    def from_string(cls, date_str):\r\n",
    "        year, month, day = tuple(date_str.split(\"-\"))\r\n",
    "        return cls(int(year), int(month), int(day))  # 取消了编码 Date\r\n",
    "\r\n",
    "\r\n",
    "if __name__ == \"__main__\":\r\n",
    "    new_day = Date(2021, 10, 6)\r\n",
    "    new_day.tomorrow()  # 针对实例进行操作\r\n",
    "    print(new_day)\r\n",
    "\r\n",
    "    date_str = \"2021-10-6\"\r\n",
    "    # year, month, day = tuple(date_str.split(\"-\"))\r\n",
    "    # new_day = Date(int(year), int(month), int(day))\r\n",
    "    # print(new_day)\r\n",
    "    # 用静态方法完成初始化\r\n",
    "    print(Date.parse_from_string(date_str))\r\n",
    "    print(Date.from_string(date_str))\r\n",
    "    print(Date.valid_str(\"2021-14-30\"))\r\n"
   ],
   "outputs": [
    {
     "output_type": "stream",
     "name": "stdout",
     "text": [
      "2021/10/7\n",
      "2021/10/6\n",
      "2021/10/6\n",
      "False\n"
     ]
    }
   ],
   "metadata": {}
  }
 ],
 "metadata": {
  "orig_nbformat": 4,
  "language_info": {
   "name": "python",
   "version": "3.8.10",
   "mimetype": "text/x-python",
   "codemirror_mode": {
    "name": "ipython",
    "version": 3
   },
   "pygments_lexer": "ipython3",
   "nbconvert_exporter": "python",
   "file_extension": ".py"
  },
  "kernelspec": {
   "name": "python3",
   "display_name": "Python 3.8.10 64-bit (system)"
  },
  "interpreter": {
   "hash": "23606025af0d759ac168e3e183f2242a20e8845206fbac4fad5a0283f7618b68"
  }
 },
 "nbformat": 4,
 "nbformat_minor": 2
}