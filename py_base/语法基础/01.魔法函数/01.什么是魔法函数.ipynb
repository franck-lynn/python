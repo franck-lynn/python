{
 "cells": [
  {
   "cell_type": "markdown",
   "metadata": {},
   "source": [
    "##  什么是魔法函数?    \n",
    "https://www.bilibili.com/video/BV1Cq4y1Q7Qv?p=9&spm_id_from=pageDriver"
   ]
  },
  {
   "cell_type": "code",
   "execution_count": 13,
   "metadata": {},
   "outputs": [
    {
     "name": "stdout",
     "output_type": "stream",
     "text": [
      "Tom\n",
      "Bob\n",
      "Jane\n",
      "Tom\n",
      "Bob\n"
     ]
    },
    {
     "data": {
      "text/plain": [
       "3"
      ]
     },
     "execution_count": 13,
     "metadata": {},
     "output_type": "execute_result"
    }
   ],
   "source": [
    "class Company:\n",
    "    def __init__(self, employee_list):\n",
    "        self.employee  = employee_list\n",
    "    #! 以双下划线开头, 双下划线结尾的函数是魔法函数\n",
    "    def __getitem__(self, item): #! 可以迭代的\n",
    "        return self.employee[item]\n",
    "    def __len__(self):\n",
    "        return len(self.employee)\n",
    "\n",
    "company = Company(['Tom', 'Bob', 'Jane'])\n",
    "\n",
    "# 循环时会调用 魔法函数 __getitem__(), 否则要用 company.employee\n",
    "# !一定要用 py 定义的函数, 自己定义是没有用的\n",
    "for em in company:\n",
    "    print(em)\n",
    "    \n",
    "# 切片\n",
    "company1 = company[:2]\n",
    "for em in company1:\n",
    "    print(em)\n",
    "\n",
    "len(company)"
   ]
  },
  {
   "cell_type": "markdown",
   "metadata": {},
   "source": [
    "有哪些魔法函数 \n"
   ]
  },
  {
   "cell_type": "code",
   "execution_count": 1,
   "metadata": {},
   "outputs": [
    {
     "name": "stdout",
     "output_type": "stream",
     "text": [
      "Tom, Bob, Jane\n"
     ]
    },
    {
     "data": {
      "text/plain": [
       "Tom, Bob, Jane"
      ]
     },
     "execution_count": 1,
     "metadata": {},
     "output_type": "execute_result"
    }
   ],
   "source": [
    "class Company1:\n",
    "    def __init__(self, employee_list):\n",
    "        self.employee  = employee_list\n",
    "    \n",
    "    def __str__(self) -> str:\n",
    "        return  \", \".join(self.employee)\n",
    "    \n",
    "    def __repr__(self) -> str:\n",
    "        return \", \".join(self.employee)\n",
    " \n",
    "company = Company1(['Tom', 'Bob', 'Jane'])      \n",
    "# 没有魔法函数时打印 \n",
    "# <__main__.Company object at 0x00000129E96E3F10>\n",
    "# 有魔法函数时, 隐含调用 __str__ 方法\n",
    "print(company) \n",
    "# 还是调用地址, 开发的时候这样些不会输出的, 实际调用的是 __repr__ 魔法函数\n",
    "# 如果定义了 __repr__ 魔法函数, python 解释器就会隐含调用 __repr__\n",
    "# company.__repr__() 实际上是这样调用的\n",
    "company "
   ]
  },
  {
   "cell_type": "code",
   "execution_count": 15,
   "metadata": {},
   "outputs": [
    {
     "data": {
      "text/plain": [
       "1"
      ]
     },
     "execution_count": 15,
     "metadata": {},
     "output_type": "execute_result"
    }
   ],
   "source": [
    "# 数学运算\n",
    "# 一元运算符\n",
    "class Nums:\n",
    "    def __init__(self, num) -> None:\n",
    "        self.num = num\n",
    "    def __abs__(self):\n",
    "        return abs(self.num)\n",
    "        \n",
    "my_num = Nums(-1)\n",
    "abs(my_num)  # 隐含调用 __abs__\n"
   ]
  },
  {
   "cell_type": "code",
   "execution_count": 17,
   "metadata": {},
   "outputs": [
    {
     "name": "stdout",
     "output_type": "stream",
     "text": [
      "x: 3, y: 5\n"
     ]
    }
   ],
   "source": [
    "class MyVector:\n",
    "    def __init__(self, x, y) -> None:\n",
    "        self.x = x\n",
    "        self.y = y\n",
    "    def __add__(self, other_instance):\n",
    "        re_vector = MyVector(self.x + other_instance.x, self.y + other_instance.y)\n",
    "        return re_vector\n",
    "        \n",
    "    def __str__(self) -> str:\n",
    "        return \"x: {x}, y: {y}\".format(x = self.x, y = self.y)\n",
    "        \n",
    "first_vec = MyVector(1, 2)\n",
    "secont_vec = MyVector(2, 3)\n",
    "print(first_vec + secont_vec)"
   ]
  },
  {
   "cell_type": "code",
   "execution_count": 1,
   "metadata": {},
   "outputs": [
    {
     "data": {
      "text/plain": [
       "3"
      ]
     },
     "execution_count": 1,
     "metadata": {},
     "output_type": "execute_result"
    }
   ],
   "source": [
    "# len 方法\n",
    "class Company2:\n",
    "    def __init__(self, employee_list):\n",
    "        self.employee  = employee_list\n",
    "    \n",
    "    def __len__(self):\n",
    "        return len(self.employee)\n",
    " \n",
    "company = Company2(['Tom', 'Bob', 'Jane'])      \n",
    "len(company)"
   ]
  }
 ],
 "metadata": {
  "interpreter": {
   "hash": "23606025af0d759ac168e3e183f2242a20e8845206fbac4fad5a0283f7618b68"
  },
  "kernelspec": {
   "display_name": "Python 3.8.10 64-bit (system)",
   "name": "python3"
  },
  "language_info": {
   "codemirror_mode": {
    "name": "ipython",
    "version": 3
   },
   "file_extension": ".py",
   "mimetype": "text/x-python",
   "name": "python",
   "nbconvert_exporter": "python",
   "pygments_lexer": "ipython3",
   "version": "3.8.10"
  },
  "orig_nbformat": 4
 },
 "nbformat": 4,
 "nbformat_minor": 2
}
