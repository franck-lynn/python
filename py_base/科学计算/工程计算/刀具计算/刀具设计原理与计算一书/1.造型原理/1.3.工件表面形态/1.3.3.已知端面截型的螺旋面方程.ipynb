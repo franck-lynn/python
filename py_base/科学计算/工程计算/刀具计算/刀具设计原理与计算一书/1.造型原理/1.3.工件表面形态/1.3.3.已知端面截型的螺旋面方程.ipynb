{
 "cells": [
  {
   "cell_type": "markdown",
   "source": [
    "## 螺旋面\r\n",
    "```\r\n",
    "若空间曲线 Σ 绕 x3 轴作螺旋运动, 即一方面绕 x3 轴以 ω 等速转到, 同时\r\n",
    "以速度 v0 沿 x3 轴等速转动,  Σ 轨迹就是螺旋面, 符合右手为右螺旋面, \r\n",
    "符合左手为左螺旋面\r\n",
    "```\r\n",
    "<img src=\"./螺旋面方程推导用图.png\" width=450 height=450>    "
   ],
   "metadata": {}
  },
  {
   "cell_type": "code",
   "execution_count": 8,
   "source": [
    "from sympy import *"
   ],
   "outputs": [],
   "metadata": {}
  },
  {
   "cell_type": "code",
   "execution_count": 9,
   "source": [
    "# 设空间任意曲线 Σ 的方程为:\r\n",
    "z1 = Function(\"z1\")\r\n",
    "z2 = Function(\"z2\")\r\n",
    "z3 = Function(\"z3\")\r\n",
    "# u ----- 决定 Σ 上任意一点位置的参变数\r\n",
    "θ, u, P = symbols(\"θ u P\")\r\n",
    "# 左螺旋面的方程\r\n",
    "x1 = z1(u) * cos(θ) - z2(u) * sin(θ)\r\n",
    "x2 = z1(u) * sin(θ) + z2(u) * cos(θ)\r\n",
    "x3 = z3(u) - P * θ"
   ],
   "outputs": [],
   "metadata": {}
  },
  {
   "cell_type": "code",
   "execution_count": 10,
   "source": [
    "print(\"x1 = \", x1)\r\n",
    "print(\"x2 = \", x2)\r\n",
    "print(\"x3 = \", x3)"
   ],
   "outputs": [
    {
     "output_type": "stream",
     "name": "stdout",
     "text": [
      "x1 =  z1(u)*cos(θ) - z2(u)*sin(θ)\n",
      "x2 =  z1(u)*sin(θ) + z2(u)*cos(θ)\n",
      "x3 =  -P*θ + z3(u)\n"
     ]
    }
   ],
   "metadata": {}
  },
  {
   "cell_type": "code",
   "execution_count": 11,
   "source": [
    "Pz = symbols(\"Pz\")\r\n",
    "x3 = x3.subs(P, Pz / (2 * pi))\r\n",
    "print(\"x3 = \", x3)"
   ],
   "outputs": [
    {
     "output_type": "stream",
     "name": "stdout",
     "text": [
      "x3 =  -Pz*θ/(2*pi) + z3(u)\n"
     ]
    }
   ],
   "metadata": {}
  },
  {
   "cell_type": "markdown",
   "source": [
    "```\r\n",
    "这个方程就是被加工表面的曲面方程\r\n",
    "x1 =  z1(u)*cos(θ) - z2(u)*sin(θ)\r\n",
    "x2 =  z1(u)*sin(θ) + z2(u)*cos(θ)\r\n",
    "x3 =  -P*θ + z3(u)\r\n",
    "```"
   ],
   "metadata": {}
  },
  {
   "cell_type": "code",
   "execution_count": 12,
   "source": [
    "# 生产中通常已知端面截型, 所以 z3 = 0\r\n",
    "z3 = 0\r\n",
    "x3 = z3  - P * θ\r\n",
    "\r\n",
    "\"\"\" \r\n",
    "# !这是已知 端面截型 的左螺旋曲面方程\r\n",
    "x1 =  z1(u)*cos(θ) - z2(u)*sin(θ)\r\n",
    "x2 =  z1(u)*sin(θ) + z2(u)*cos(θ)\r\n",
    "x3 =  -P*θ\r\n",
    "\"\"\"\r\n",
    "print(\"x1 = \", x1)\r\n",
    "print(\"x2 = \", x2)\r\n",
    "print(\"x3 = \", x3)\r\n"
   ],
   "outputs": [
    {
     "output_type": "stream",
     "name": "stdout",
     "text": [
      "x1 =  z1(u)*cos(θ) - z2(u)*sin(θ)\n",
      "x2 =  z1(u)*sin(θ) + z2(u)*cos(θ)\n",
      "x3 =  -P*θ\n"
     ]
    }
   ],
   "metadata": {}
  }
 ],
 "metadata": {
  "orig_nbformat": 4,
  "language_info": {
   "name": "python",
   "version": "3.8.10",
   "mimetype": "text/x-python",
   "codemirror_mode": {
    "name": "ipython",
    "version": 3
   },
   "pygments_lexer": "ipython3",
   "nbconvert_exporter": "python",
   "file_extension": ".py"
  },
  "kernelspec": {
   "name": "python3",
   "display_name": "Python 3.8.10 64-bit (system)"
  },
  "interpreter": {
   "hash": "23606025af0d759ac168e3e183f2242a20e8845206fbac4fad5a0283f7618b68"
  }
 },
 "nbformat": 4,
 "nbformat_minor": 2
}