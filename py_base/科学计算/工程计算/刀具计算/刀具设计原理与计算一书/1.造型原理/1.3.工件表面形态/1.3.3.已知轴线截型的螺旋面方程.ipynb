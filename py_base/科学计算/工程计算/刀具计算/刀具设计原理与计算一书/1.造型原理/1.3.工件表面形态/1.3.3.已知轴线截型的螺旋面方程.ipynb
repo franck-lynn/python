{
 "cells": [
  {
   "cell_type": "markdown",
   "source": [
    "## 已知 轴向截型 的螺旋面方程\r\n",
    "```\r\n",
    "假设工件的轴向截型方程  \r\n",
    "x2 --- x1x3是工件的切面, 显然 x2 坐标为0\r\n",
    "x1, x3 ----- 都是有值的\r\n",
    "```\r\n",
    "<img src=\"./螺旋面方程推导用图.png\" width=450 height=450>  "
   ],
   "metadata": {}
  },
  {
   "cell_type": "code",
   "execution_count": 7,
   "source": [
    "from sympy import *\r\n",
    "θ, u, P = symbols(\"θ u P\")"
   ],
   "outputs": [],
   "metadata": {}
  },
  {
   "cell_type": "code",
   "execution_count": 8,
   "source": [
    "z1 = Function(\"z1\")\r\n",
    "z2 = 0\r\n",
    "z3 = Function(\"z3\")"
   ],
   "outputs": [],
   "metadata": {}
  },
  {
   "cell_type": "code",
   "execution_count": 9,
   "source": [
    "# 左螺旋面的方程\r\n",
    "x1 = z1(u) * cos(θ) - z2 * sin(θ) # z2 = 0, 不是一个函数, 所以, 不能用 z2(u) 形式\r\n",
    "x2 = z1(u) * sin(θ) + z2 * cos(θ) \r\n",
    "x3 = z3(u) - P * θ"
   ],
   "outputs": [],
   "metadata": {}
  },
  {
   "cell_type": "code",
   "execution_count": 10,
   "source": [
    "print(\"x1 = \", x1)\r\n",
    "print(\"x2 = \", x2)\r\n",
    "print(\"x3 = \", x3)"
   ],
   "outputs": [
    {
     "output_type": "stream",
     "name": "stdout",
     "text": [
      "x1 =  z1(u)*cos(θ)\n",
      "x2 =  z1(u)*sin(θ)\n",
      "x3 =  -P*θ + z3(u)\n"
     ]
    }
   ],
   "metadata": {}
  }
 ],
 "metadata": {
  "orig_nbformat": 4,
  "language_info": {
   "name": "python",
   "version": "3.8.2",
   "mimetype": "text/x-python",
   "codemirror_mode": {
    "name": "ipython",
    "version": 3
   },
   "pygments_lexer": "ipython3",
   "nbconvert_exporter": "python",
   "file_extension": ".py"
  },
  "kernelspec": {
   "name": "python3",
   "display_name": "Python 3.8.2 64-bit ('Python')"
  },
  "interpreter": {
   "hash": "1d92b9cd9fde8595f68567709248ea4677da4f733d798c068718527c850fd97c"
  }
 },
 "nbformat": 4,
 "nbformat_minor": 2
}