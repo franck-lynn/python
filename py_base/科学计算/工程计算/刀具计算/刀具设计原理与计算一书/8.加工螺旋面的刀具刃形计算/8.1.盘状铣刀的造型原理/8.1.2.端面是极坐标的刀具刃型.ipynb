{
 "cells": [
  {
   "cell_type": "markdown",
   "source": [
    "## 端面截型是极坐标给出的刀具刃形\r\n",
    "\r\n",
    "```\r\n",
    "设极径函数为 \r\n",
    "ry = Function(\"ry\") # 端面截型的计算点的矢径长, 关于极角 δy 的函数\r\n",
    "```"
   ],
   "metadata": {}
  },
  {
   "cell_type": "code",
   "execution_count": 5,
   "source": [
    "from sympy import *\r\n",
    "θ, δy, P, ry = symbols(\"θ δy P ry\")"
   ],
   "outputs": [],
   "metadata": {}
  },
  {
   "cell_type": "code",
   "execution_count": 8,
   "source": [
    "# ry = Function(\"ry\") # 端面截型的计算点的矢径长, 关于极角 δy 的函数\r\n",
    "# 用变量表示, 而不用函数的形式\r\n",
    "z1 = ry * cos(δy)\r\n",
    "z2 = ry * sin(δy)\r\n",
    "z3 = 0"
   ],
   "outputs": [],
   "metadata": {}
  },
  {
   "cell_type": "code",
   "execution_count": 15,
   "source": [
    "\r\n",
    "x1 =  simplify(z1 *cos(θ) - z2 *sin(θ))\r\n",
    "x2 =  simplify(z1 *sin(θ) + z2 *cos(θ))\r\n",
    "x3 =  -P*θ\r\n",
    "print(x1)\r\n",
    "print(x2)\r\n",
    "print(x3)"
   ],
   "outputs": [
    {
     "output_type": "stream",
     "name": "stdout",
     "text": [
      "ry*cos(δy + θ)\n",
      "ry*sin(δy + θ)\n"
     ]
    }
   ],
   "metadata": {}
  }
 ],
 "metadata": {
  "orig_nbformat": 4,
  "language_info": {
   "name": "python",
   "version": "3.8.2",
   "mimetype": "text/x-python",
   "codemirror_mode": {
    "name": "ipython",
    "version": 3
   },
   "pygments_lexer": "ipython3",
   "nbconvert_exporter": "python",
   "file_extension": ".py"
  },
  "kernelspec": {
   "name": "python3",
   "display_name": "Python 3.8.2 64-bit ('Python')"
  },
  "interpreter": {
   "hash": "1d92b9cd9fde8595f68567709248ea4677da4f733d798c068718527c850fd97c"
  }
 },
 "nbformat": 4,
 "nbformat_minor": 2
}