{
 "cells": [
  {
   "source": [
    "## 前言部分    \n",
    "```\n",
    "在生产实践中具有螺旋面的工件很多, 螺纹, 蜗杆, 螺旋齿轮(斜齿轮), 螺旋泵及  \n",
    "各类螺旋齿刀具(钻头, 螺旋绞刀, 铣刀, 拉刀)等, 这些工件都有一个共同的特点:  \n",
    "螺旋面的螺旋参数 \n",
    "```  \n",
    "<h3><font color=\"red\">P =  Pz / 2 * pi  = ry * tan(γy) = 常数  </font></h3>    \n",
    "\n",
    "```\n",
    "式中: Pz ----- 螺旋面导程, 英文Lead, 同螺旋线相邻对应点的轴向距离,   \n",
    "               与螺距概念上不同, 单头时 导程 Pz = S 螺距,      \n",
    "                                多头时 导程 Pz / n = S 螺距    \n",
    "      P ----- 螺旋参数\n",
    "      ry ---- 半径为 ry 的圆柱上螺旋线升角  \n",
    "这类 P = 常数 的螺旋面称为等升距螺旋面, 简称螺旋面, 我们只研究这种螺旋面  \n",
    "```\n",
    "<img src=\"./螺距与螺旋线升角的关系.png\" width=400 height=240>    "
   ],
   "cell_type": "code",
   "metadata": {},
   "execution_count": 3,
   "outputs": [
    {
     "output_type": "error",
     "ename": "IndentationError",
     "evalue": "unindent does not match any outer indentation level (<tokenize>, line 13)",
     "traceback": [
      "\u001b[1;36m  File \u001b[1;32m\"<tokenize>\"\u001b[1;36m, line \u001b[1;32m13\u001b[0m\n\u001b[1;33m    P ----- 螺旋参数\u001b[0m\n\u001b[1;37m    ^\u001b[0m\n\u001b[1;31mIndentationError\u001b[0m\u001b[1;31m:\u001b[0m unindent does not match any outer indentation level\n"
     ]
    }
   ]
  },
  {
   "cell_type": "code",
   "execution_count": 9,
   "source": [
    "from sympy import *\r\n",
    "import math"
   ],
   "outputs": [],
   "metadata": {}
  },
  {
   "cell_type": "markdown",
   "source": [
    "## 三个坐标系\r\n",
    "```\r\n",
    "X(x1, x2, x3) ----- 与工件固连, x3 总是它的回转轴   \r\n",
    "Y(y1, y2, y3) ----- 与原始刀具面相固连, 坐标原点 O1 位于工件轴线与工件轴线   \r\n",
    "                    间最短间距上, y1 与 x1 轴重合, 但反向\r\n",
    "                    y3 轴总是刀具的回转轴, 它与 x3 轴正向夹角为 Σ, y2 轴\r\n",
    "                    与 y1, y3 轴组成右手直角坐标系\r\n",
    "A(a1, a2, a3) ------ 辅助坐标系, 它的三个坐标轴与 X坐标系三个轴平行, 但它的原点在 O1                 \r\n",
    "```\r\n",
    "<img src=\"./三个坐标系.png\" width=806 height=340>  "
   ],
   "metadata": {}
  },
  {
   "cell_type": "markdown",
   "source": [
    "## 三个坐标系之间的关系\r\n",
    "### A 与 x 之间(A坐标系用X坐标系表示,A在X中的位置):\r\n",
    "```\r\n",
    "a1 = x1 - a\r\n",
    "a2 = x2\r\n",
    "a3 = x3\r\n",
    "```\r\n",
    "### X 与 Y 之间:\r\n",
    "#### Y坐标系在X坐标系中的位置\r\n",
    "```\r\n",
    "y1 = a - x1\r\n",
    "y2 = - x2 * cos(Σ) - x3 * sin(Σ)\r\n",
    "y3 = - x2 * sin(Σ) + x3 * cos(Σ)\r\n",
    "```\r\n",
    "#### X坐标系在Y坐标系中的位置\r\n",
    "```\r\n",
    "x1 = a - y1\r\n",
    "x2 = -y2 * cos(Σ) - y3 * sin(Σ)\r\n",
    "x3 = -y2 * sin(Σ) + y3 * cos(Σ)\r\n",
    "```"
   ],
   "metadata": {}
  }
 ],
 "metadata": {
  "orig_nbformat": 4,
  "language_info": {
   "name": "python",
   "version": "3.8.2",
   "mimetype": "text/x-python",
   "codemirror_mode": {
    "name": "ipython",
    "version": 3
   },
   "pygments_lexer": "ipython3",
   "nbconvert_exporter": "python",
   "file_extension": ".py"
  },
  "kernelspec": {
   "name": "python3",
   "display_name": "Python 3.8.2 64-bit"
  },
  "interpreter": {
   "hash": "23606025af0d759ac168e3e183f2242a20e8845206fbac4fad5a0283f7618b68"
  }
 },
 "nbformat": 4,
 "nbformat_minor": 2
}