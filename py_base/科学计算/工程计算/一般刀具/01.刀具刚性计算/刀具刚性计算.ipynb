{
 "cells": [
  {
   "cell_type": "markdown",
   "metadata": {},
   "source": [
    "## 刀具刚性计算公式:\n",
    "\n",
    "<img src=\"./刚性计算公式.png\" width=600 height=400>"
   ]
  },
  {
   "cell_type": "code",
   "execution_count": 1,
   "metadata": {},
   "outputs": [],
   "source": [
    "from math import pi\n",
    "from sympy import *\n",
    "l, E = symbols(\"l E\")"
   ]
  },
  {
   "cell_type": "code",
   "execution_count": 2,
   "metadata": {},
   "outputs": [
    {
     "name": "stdout",
     "output_type": "stream",
     "text": [
      "刚性比1 -->  2.20508955838936\n"
     ]
    }
   ],
   "source": [
    "d_carbide = 25\n",
    "d_hs = 27\n",
    "# 按弹性模型 3 倍计算\n",
    "stiffness_carbide = 3. * pi * E * d_carbide**4/ (64 * l**3)\n",
    "stiffness_hs = pi * E * d_hs**4/ (64 * l**3)\n",
    "print(\"刚性比1 --> \", stiffness_carbide / stiffness_hs)"
   ]
  },
  {
   "cell_type": "code",
   "execution_count": 3,
   "metadata": {},
   "outputs": [
    {
     "name": "stdout",
     "output_type": "stream",
     "text": [
      "刚性比2 -->  3.00000000000000\n"
     ]
    }
   ],
   "source": [
    "# 如果同一直径比较\n",
    "d_carbide = 27\n",
    "stiffness_carbide = 3. * pi * E * d_carbide**4/ (64 * l**3)\n",
    "print(\"刚性比2 --> \", stiffness_carbide / stiffness_hs)"
   ]
  },
  {
   "cell_type": "markdown",
   "metadata": {},
   "source": [
    "## 由此可见, 硬质合金的刚性比高速钢的刚性好\n",
    "## 两者切削力大小相差不大\n",
    "## 后续修磨订购等复杂\n",
    "## 或者考虑阻尼减振?\n"
   ]
  }
 ],
 "metadata": {
  "interpreter": {
   "hash": "23606025af0d759ac168e3e183f2242a20e8845206fbac4fad5a0283f7618b68"
  },
  "kernelspec": {
   "display_name": "Python 3.8.2 64-bit",
   "name": "python3"
  },
  "language_info": {
   "codemirror_mode": {
    "name": "ipython",
    "version": 3
   },
   "file_extension": ".py",
   "mimetype": "text/x-python",
   "name": "python",
   "nbconvert_exporter": "python",
   "pygments_lexer": "ipython3",
   "version": "3.8.10"
  },
  "orig_nbformat": 4
 },
 "nbformat": 4,
 "nbformat_minor": 2
}
