{
 "cells": [
  {
   "cell_type": "markdown",
   "metadata": {},
   "source": [
    "## 螺纹铣刀加长加粗刚性比较:\n",
    "\n",
    "<img src=\"./刚性计算公式.png\" width=600 height=400>"
   ]
  },
  {
   "cell_type": "code",
   "execution_count": 14,
   "metadata": {},
   "outputs": [],
   "source": [
    "from math import pi\n",
    "from sympy import *\n",
    "l, E = symbols(\"l E\")"
   ]
  },
  {
   "cell_type": "code",
   "execution_count": 15,
   "metadata": {},
   "outputs": [
    {
     "name": "stdout",
     "output_type": "stream",
     "text": [
      "刚性比--->  0.785391807556152\n"
     ]
    }
   ],
   "source": [
    "d0 = 20\n",
    "l0 = 35\n",
    "d1 = 85-50\n",
    "l1 = 140-60\n",
    "stiffness0 = 3. * pi * E * d0**4/ (64 * l0**3)\n",
    "stiffness1 = 3. * pi * E * d1**4/ (64 * l1**3)\n",
    "print(\"刚性比---> \", stiffness1/stiffness0)"
   ]
  }
 ],
 "metadata": {
  "interpreter": {
   "hash": "23606025af0d759ac168e3e183f2242a20e8845206fbac4fad5a0283f7618b68"
  },
  "kernelspec": {
   "display_name": "Python 3.8.10 64-bit (system)",
   "language": "python",
   "name": "python3"
  },
  "language_info": {
   "codemirror_mode": {
    "name": "ipython",
    "version": 3
   },
   "file_extension": ".py",
   "mimetype": "text/x-python",
   "name": "python",
   "nbconvert_exporter": "python",
   "pygments_lexer": "ipython3",
   "version": "3.8.10"
  },
  "orig_nbformat": 4
 },
 "nbformat": 4,
 "nbformat_minor": 2
}
