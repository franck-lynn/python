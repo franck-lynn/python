{
 "cells": [
  {
   "cell_type": "markdown",
   "metadata": {},
   "source": [
    "### 已知链轮的节距 p1 和齿数 z"
   ]
  },
  {
   "cell_type": "markdown",
   "metadata": {},
   "source": []
  },
  {
   "cell_type": "code",
   "execution_count": 37,
   "metadata": {},
   "outputs": [],
   "source": [
    "from  math import *"
   ]
  },
  {
   "cell_type": "markdown",
   "metadata": {},
   "source": [
    "### 已知节距: p1 = 12.784\n",
    "### 齿数: z1 = 24\n",
    "### 压力角:α1 = 31.5\n",
    "### 模数: m1 - p1 / π\n",
    "### 分度圆直径: d = m1 * z\n",
    "\n",
    "### 以下参照老的手册:\n",
    "### 齿顶圆直径: da = (p + Δp) / tan(180°/z1) -2C (需要注意 python 是弧度制 )\n",
    "### 式中:\n",
    "### Δp = u (1 - cos(6°)/cos(6°-180°/z1))\n",
    "### z1 --- 齿数, u--- 查表得, C --- 查表得\n",
    "### 齿根圆直径: df = \n"
   ]
  },
  {
   "cell_type": "code",
   "execution_count": 38,
   "metadata": {},
   "outputs": [],
   "source": [
    "p1 = 12.784\n",
    "z1 = 24\n",
    "α1 = 31.5\n",
    "C = 2.1\n",
    "u = 12.6"
   ]
  },
  {
   "cell_type": "code",
   "execution_count": 39,
   "metadata": {},
   "outputs": [
    {
     "name": "stdout",
     "output_type": "stream",
     "text": [
      "\n",
      " 模数  m1 =  4.069273584973581 \n",
      " 分度圆 d =  97.66256603936594 \n",
      " 齿顶圆 da =  97.59578306058962 \n",
      "\n"
     ]
    }
   ],
   "source": [
    "m1 = p1 / pi\n",
    "d = m1 * z1\n",
    "Δp =  u * (1 - cos(radians(6)) / cos(radians(6 - 180 / z1)) )\n",
    "da = (p1 + Δp)/ tan(radians(180/z1))\n",
    "\n",
    "print(\n",
    "    \"\\n\", \n",
    "    \"模数  m1 = \", m1, \"\\n\", \n",
    "    \"分度圆 d = \", d, \"\\n\", \n",
    "    \"齿顶圆 da = \", da, \"\\n\", \n",
    ")"
   ]
  }
 ],
 "metadata": {
  "interpreter": {
   "hash": "1d92b9cd9fde8595f68567709248ea4677da4f733d798c068718527c850fd97c"
  },
  "kernelspec": {
   "display_name": "Python 3.8.2 64-bit ('Python')",
   "name": "python3"
  },
  "language_info": {
   "codemirror_mode": {
    "name": "ipython",
    "version": 3
   },
   "file_extension": ".py",
   "mimetype": "text/x-python",
   "name": "python",
   "nbconvert_exporter": "python",
   "pygments_lexer": "ipython3",
   "version": "3.8.10"
  },
  "orig_nbformat": 4
 },
 "nbformat": 4,
 "nbformat_minor": 2
}
