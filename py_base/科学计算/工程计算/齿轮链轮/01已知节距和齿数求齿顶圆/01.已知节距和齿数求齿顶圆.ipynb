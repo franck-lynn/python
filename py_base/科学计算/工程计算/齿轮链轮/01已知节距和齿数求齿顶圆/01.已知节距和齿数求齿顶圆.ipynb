{
 "cells": [
  {
   "cell_type": "markdown",
   "source": [
    "已知链轮的节距和齿数求齿顶圆直径 da"
   ],
   "metadata": {}
  },
  {
   "cell_type": "code",
   "execution_count": 18,
   "source": [
    "from  math import *"
   ],
   "outputs": [],
   "metadata": {}
  },
  {
   "cell_type": "code",
   "execution_count": 19,
   "source": [
    "p = 12.7\r\n",
    "z = 23\r\n",
    "da = p / math.tan(math.radians(180 / z))\r\n",
    "print(\"齿顶圆直径 da = \", da)"
   ],
   "outputs": [
    {
     "output_type": "stream",
     "name": "stdout",
     "text": [
      "齿顶圆直径 da =  84.25899454732425\n"
     ]
    }
   ],
   "metadata": {}
  }
 ],
 "metadata": {
  "orig_nbformat": 4,
  "language_info": {
   "name": "python",
   "version": "3.8.2",
   "mimetype": "text/x-python",
   "codemirror_mode": {
    "name": "ipython",
    "version": 3
   },
   "pygments_lexer": "ipython3",
   "nbconvert_exporter": "python",
   "file_extension": ".py"
  },
  "kernelspec": {
   "name": "python3",
   "display_name": "Python 3.8.2 64-bit ('Python')"
  },
  "interpreter": {
   "hash": "1d92b9cd9fde8595f68567709248ea4677da4f733d798c068718527c850fd97c"
  }
 },
 "nbformat": 4,
 "nbformat_minor": 2
}